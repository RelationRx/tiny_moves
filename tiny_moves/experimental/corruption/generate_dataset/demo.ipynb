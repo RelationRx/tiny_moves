{
 "cells": [
  {
   "cell_type": "code",
   "execution_count": null,
   "metadata": {
    "keep_output": false
   },
   "outputs": [],
   "source": [
    "%load_ext autoreload\n",
    "%autoreload 2"
   ]
  },
  {
   "cell_type": "code",
   "execution_count": null,
   "metadata": {
    "keep_output": false
   },
   "outputs": [],
   "source": [
    "from pathlib import Path\n",
    "\n",
    "import pandas as pd\n",
    "from generate_corruptions import generate_corruptions_for_pathway"
   ]
  },
  {
   "cell_type": "code",
   "execution_count": null,
   "metadata": {
    "keep_output": false
   },
   "outputs": [],
   "source": [
    "pathway_tsv = Path(\"/cache-juicefs/tiny_moves_data/neurips2025/reactome/R-HSA-1222538/R-HSA-1222538.tsv\")\n",
    "\n",
    "GLOBAL_NUM_OF_EXAMPLES = 1"
   ]
  },
  {
   "cell_type": "code",
   "execution_count": null,
   "metadata": {
    "keep_output": false
   },
   "outputs": [],
   "source": [
    "df = generate_corruptions_for_pathway(\n",
    "    tsv_path=pathway_tsv,\n",
    "    model_name=\"gpt-4o\",\n",
    "    seed=42,\n",
    ")\n",
    "\n",
    "df.to_parquet(\"/cache-juicefs/tiny_moves_data/neurips2025/corruptions/R-HSA-1222538.parquet\")"
   ]
  },
  {
   "cell_type": "code",
   "execution_count": null,
   "metadata": {
    "keep_output": false
   },
   "outputs": [],
   "source": [
    "cols = [\"pathway_id\", \"anchor_step_index\", \"error_type\"]\n",
    "df.sort_values(cols)"
   ]
  },
  {
   "cell_type": "code",
   "execution_count": null,
   "metadata": {
    "keep_output": false
   },
   "outputs": [],
   "source": [
    "reference_pathway = pd.read_csv(pathway_tsv, sep=\"\\t\")"
   ]
  },
  {
   "cell_type": "code",
   "execution_count": null,
   "metadata": {
    "keep_output": false
   },
   "outputs": [],
   "source": [
    "reference_pathway"
   ]
  },
  {
   "cell_type": "code",
   "execution_count": null,
   "metadata": {
    "keep_output": false
   },
   "outputs": [],
   "source": []
  }
 ],
 "metadata": {
  "kernelspec": {
   "display_name": "Python 3",
   "language": "python",
   "name": "python3"
  },
  "language_info": {
   "codemirror_mode": {
    "name": "ipython",
    "version": 3
   },
   "file_extension": ".py",
   "mimetype": "text/x-python",
   "name": "python",
   "nbconvert_exporter": "python",
   "pygments_lexer": "ipython3",
   "version": "3.12.7"
  }
 },
 "nbformat": 4,
 "nbformat_minor": 2
}
